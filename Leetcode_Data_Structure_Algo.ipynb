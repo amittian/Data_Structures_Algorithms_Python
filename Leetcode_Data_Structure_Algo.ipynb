{
  "nbformat": 4,
  "nbformat_minor": 0,
  "metadata": {
    "colab": {
      "provenance": [],
      "authorship_tag": "ABX9TyOohvHNjFkKeywxnPTXywz0",
      "include_colab_link": true
    },
    "kernelspec": {
      "name": "python3",
      "display_name": "Python 3"
    },
    "language_info": {
      "name": "python"
    }
  },
  "cells": [
    {
      "cell_type": "markdown",
      "metadata": {
        "id": "view-in-github",
        "colab_type": "text"
      },
      "source": [
        "<a href=\"https://colab.research.google.com/github/amittian/Data_Structures_Algorithms_Python/blob/main/Leetcode_Data_Structure_Algo.ipynb\" target=\"_parent\"><img src=\"https://colab.research.google.com/assets/colab-badge.svg\" alt=\"Open In Colab\"/></a>"
      ]
    },
    {
      "cell_type": "code",
      "execution_count": null,
      "metadata": {
        "id": "q-yhcWV_btK-"
      },
      "outputs": [],
      "source": [
        "import numpy as np\n",
        "import array"
      ]
    },
    {
      "cell_type": "code",
      "source": [
        "import array\n",
        "\n",
        "# Creating a 1D array of integers\n",
        "my_array = array.array('i', [1, 2, 3, 4, 5])\n",
        "\n",
        "# Accessing elements\n",
        "print(\"1D Array:\", my_array)\n",
        "print(\"First element:\", my_array[0])\n",
        "print(\"Last element:\", my_array[-1])\n",
        "\n",
        "# Modifying an element\n",
        "my_array[2] = 10\n",
        "print(\"Modified Array:\", my_array)"
      ],
      "metadata": {
        "colab": {
          "base_uri": "https://localhost:8080/"
        },
        "id": "BvkuSbVHf0N8",
        "outputId": "30ccf6b9-b7e1-465c-8fa6-2039787650e9"
      },
      "execution_count": 3,
      "outputs": [
        {
          "output_type": "stream",
          "name": "stdout",
          "text": [
            "1D Array: array('i', [1, 2, 3, 4, 5])\n",
            "First element: 1\n",
            "Last element: 5\n",
            "Modified Array: array('i', [1, 2, 10, 4, 5])\n"
          ]
        }
      ]
    },
    {
      "cell_type": "code",
      "source": [
        "input_array = np.array([1,2,3] ,dtype=np.int64)\n",
        "\n",
        "print(input_array)\n",
        "print(input_array.shape)\n",
        "print(input_array.dtype)"
      ],
      "metadata": {
        "id": "U0c-nlzQb3pa",
        "colab": {
          "base_uri": "https://localhost:8080/"
        },
        "outputId": "bbc5b5e5-9605-4576-8a00-2a3ff6f08491"
      },
      "execution_count": 2,
      "outputs": [
        {
          "output_type": "stream",
          "name": "stdout",
          "text": [
            "[1 2 3]\n",
            "(3,)\n",
            "int64\n"
          ]
        }
      ]
    },
    {
      "cell_type": "code",
      "source": [
        "import numpy as np\n",
        "\n",
        "# Creating a 1D array using NumPy\n",
        "one_d_array = np.array([1, 2, 3, 4, 5])\n",
        "\n",
        "# Accessing elements\n",
        "print(\"1D NumPy Array:\", one_d_array)\n",
        "print(\"First element:\", one_d_array[0])\n",
        "print(\"Last element:\", one_d_array[-1])\n"
      ],
      "metadata": {
        "colab": {
          "base_uri": "https://localhost:8080/"
        },
        "id": "viezZUZJfBAG",
        "outputId": "1478f626-6a58-48da-c8ef-f5103d4d9b40"
      },
      "execution_count": 4,
      "outputs": [
        {
          "output_type": "stream",
          "name": "stdout",
          "text": [
            "1D NumPy Array: [1 2 3 4 5]\n",
            "First element: 1\n",
            "Last element: 5\n"
          ]
        }
      ]
    },
    {
      "cell_type": "code",
      "source": [
        "# Creating a 2D array (matrix) using NumPy\n",
        "two_d_array = np.array([[1, 2, 3], [4, 5, 6], [7, 8, 9]])\n",
        "\n",
        "# Accessing elements\n",
        "print(\"2D NumPy Array (Matrix):\\n\", two_d_array)\n",
        "print(\"Element at row 1, col 2:\", two_d_array[0, 1])  # Element at (0, 1)\n"
      ],
      "metadata": {
        "colab": {
          "base_uri": "https://localhost:8080/"
        },
        "id": "7p1mJzaggLuD",
        "outputId": "329f2449-913d-4682-b258-b417a88bef0a"
      },
      "execution_count": 5,
      "outputs": [
        {
          "output_type": "stream",
          "name": "stdout",
          "text": [
            "2D NumPy Array (Matrix):\n",
            " [[1 2 3]\n",
            " [4 5 6]\n",
            " [7 8 9]]\n",
            "Element at row 1, col 2: 2\n"
          ]
        }
      ]
    },
    {
      "cell_type": "code",
      "source": [
        "import array\n",
        "\n",
        "# Step 1: Create an array of integers\n",
        "my_array = array.array('i', [1, 2, 3, 4, 5])\n",
        "print(\"Original Array:\", my_array)\n",
        "\n",
        "# Step 2: Insert a new element at index 2 (third position)\n",
        "my_array.insert(2, 10)  # Insert '10' at index 2\n",
        "\n",
        "# Step 3: Display the updated array\n",
        "print(\"Array after Insertion:\", my_array)\n"
      ],
      "metadata": {
        "colab": {
          "base_uri": "https://localhost:8080/"
        },
        "id": "MeVTjGyOgQ_Y",
        "outputId": "982b8fad-243f-4a81-b43e-934ac24c531a"
      },
      "execution_count": 6,
      "outputs": [
        {
          "output_type": "stream",
          "name": "stdout",
          "text": [
            "Original Array: array('i', [1, 2, 3, 4, 5])\n",
            "Array after Insertion: array('i', [1, 2, 10, 3, 4, 5])\n"
          ]
        }
      ]
    },
    {
      "cell_type": "markdown",
      "source": [
        "**Time Complexity of Insertion**\n",
        "Time complexity refers to how the time taken by an operation increases as the size of the array grows. Let's break it down in simple terms.\n",
        "\n",
        "**Best Case (O(1)):** If we insert an element at the end of the array, it takes constant time because no shifting of elements is required. The array just adds the new element at the last position.\n",
        "\n",
        "**Worst Case (O(n)):** If we insert an element at the beginning or middle of the array, the array needs to shift all the elements to the right to make room for the new element.\n",
        "\n",
        "**For example,** in the case above, inserting 10 at index 2 means the elements 3, 4, 5 have to move one position to the right. If the array has n elements, this shifting operation takes O(n) time."
      ],
      "metadata": {
        "id": "rkhEUFmLioRY"
      }
    },
    {
      "cell_type": "code",
      "source": [
        "for i in range(len(my_array)):\n",
        "    print(my_array[i])"
      ],
      "metadata": {
        "colab": {
          "base_uri": "https://localhost:8080/"
        },
        "id": "PlCIXyRxiynW",
        "outputId": "2db978ed-7c21-4201-833f-80d242475e6c"
      },
      "execution_count": 7,
      "outputs": [
        {
          "output_type": "stream",
          "name": "stdout",
          "text": [
            "1\n",
            "2\n",
            "10\n",
            "3\n",
            "4\n",
            "5\n"
          ]
        }
      ]
    },
    {
      "cell_type": "code",
      "source": [
        "for i in my_array:\n",
        "    print(i)"
      ],
      "metadata": {
        "colab": {
          "base_uri": "https://localhost:8080/"
        },
        "id": "TIIharJ-jRbe",
        "outputId": "621a1048-fd5b-42e0-c5db-ef40ccd4ab9d"
      },
      "execution_count": 8,
      "outputs": [
        {
          "output_type": "stream",
          "name": "stdout",
          "text": [
            "1\n",
            "2\n",
            "10\n",
            "3\n",
            "4\n",
            "5\n"
          ]
        }
      ]
    },
    {
      "cell_type": "code",
      "source": [
        "my_array * 10\n"
      ],
      "metadata": {
        "colab": {
          "base_uri": "https://localhost:8080/"
        },
        "id": "eKo0WqlhjYzq",
        "outputId": "7408e367-5be2-4b13-fa17-0ecf9ec7e109"
      },
      "execution_count": 9,
      "outputs": [
        {
          "output_type": "execute_result",
          "data": {
            "text/plain": [
              "array('i', [1, 2, 10, 3, 4, 5, 1, 2, 10, 3, 4, 5, 1, 2, 10, 3, 4, 5, 1, 2, 10, 3, 4, 5, 1, 2, 10, 3, 4, 5, 1, 2, 10, 3, 4, 5, 1, 2, 10, 3, 4, 5, 1, 2, 10, 3, 4, 5, 1, 2, 10, 3, 4, 5, 1, 2, 10, 3, 4, 5])"
            ]
          },
          "metadata": {},
          "execution_count": 9
        }
      ]
    },
    {
      "cell_type": "code",
      "source": [
        "import array\n",
        "\n",
        "# 1. Array of Signed Integers (Positive and Negative Integers)\n",
        "signed_int_array = array.array('i', [1, -2, 3, -4, 5])\n",
        "print(\"Signed Integer Array:\", signed_int_array)\n",
        "\n",
        "# 2. Array of Unsigned Integers (Positive Integers Only)\n",
        "unsigned_int_array = array.array('I', [1, 2, 3, 4, 5])\n",
        "print(\"Unsigned Integer Array:\", unsigned_int_array)\n",
        "\n",
        "# Uncommenting the next line will raise an OverflowError since -1 is not allowed in unsigned arrays\n",
        "# unsigned_int_array.append(-1)  # OverflowError\n",
        "\n",
        "# 3. Array of Floats (Positive and Negative Floating-Point Numbers)\n",
        "float_array = array.array('f', [1.1, -2.2, 3.3, -4.4, 5.5])\n",
        "print(\"Float Array:\", float_array)\n"
      ],
      "metadata": {
        "colab": {
          "base_uri": "https://localhost:8080/"
        },
        "id": "rFNxC0HAoDWU",
        "outputId": "f8111af3-ffb5-49e1-f3b0-7d83c7ded888"
      },
      "execution_count": 10,
      "outputs": [
        {
          "output_type": "stream",
          "name": "stdout",
          "text": [
            "Signed Integer Array: array('i', [1, -2, 3, -4, 5])\n",
            "Unsigned Integer Array: array('I', [1, 2, 3, 4, 5])\n",
            "Float Array: array('f', [1.100000023841858, -2.200000047683716, 3.299999952316284, -4.400000095367432, 5.5])\n"
          ]
        }
      ]
    },
    {
      "cell_type": "markdown",
      "source": [
        "**📘 Further Notes: Time and Space Complexity**\n",
        "**Time Complexity:**\n",
        "\n",
        "Accessing elements in an array: O(1) (constant time).\n",
        "\n",
        "Inserting an element at the end: O(1) (constant time).\n",
        "\n",
        "Inserting an element at the beginning or middle: O(n) (linear time), because all elements must shift.\n",
        "\n",
        "**Space Complexity:**\n",
        "\n",
        "Arrays use a fixed amount of memory for each element, which is efficient when handling large numerical datasets.\n",
        "\n",
        "Space complexity of insertion is O(1) because no extra space is needed beyond the new element being inserted."
      ],
      "metadata": {
        "id": "-dQk2-2poqzm"
      }
    },
    {
      "cell_type": "code",
      "source": [],
      "metadata": {
        "id": "R5h-nQ_moroS"
      },
      "execution_count": null,
      "outputs": []
    }
  ]
}
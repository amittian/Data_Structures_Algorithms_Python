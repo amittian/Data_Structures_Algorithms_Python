{
  "nbformat": 4,
  "nbformat_minor": 0,
  "metadata": {
    "colab": {
      "provenance": [],
      "authorship_tag": "ABX9TyPqY8daX/04HBr6qSEqNEnE",
      "include_colab_link": true
    },
    "kernelspec": {
      "name": "python3",
      "display_name": "Python 3"
    },
    "language_info": {
      "name": "python"
    }
  },
  "cells": [
    {
      "cell_type": "markdown",
      "metadata": {
        "id": "view-in-github",
        "colab_type": "text"
      },
      "source": [
        "<a href=\"https://colab.research.google.com/github/amittian/Data_Structures_Algorithms_Python/blob/main/Leetcode_Data_Structure_Algo.ipynb\" target=\"_parent\"><img src=\"https://colab.research.google.com/assets/colab-badge.svg\" alt=\"Open In Colab\"/></a>"
      ]
    },
    {
      "cell_type": "code",
      "execution_count": null,
      "metadata": {
        "id": "q-yhcWV_btK-"
      },
      "outputs": [],
      "source": [
        "import numpy as np\n",
        "import array"
      ]
    },
    {
      "cell_type": "code",
      "source": [
        "import array\n",
        "\n",
        "# Creating a 1D array of integers\n",
        "my_array = array.array('i', [1, 2, 3, 4, 5])\n",
        "\n",
        "# Accessing elements\n",
        "print(\"1D Array:\", my_array)\n",
        "print(\"First element:\", my_array[0])\n",
        "print(\"Last element:\", my_array[-1])\n",
        "\n",
        "# Modifying an element\n",
        "my_array[2] = 10\n",
        "print(\"Modified Array:\", my_array)"
      ],
      "metadata": {
        "colab": {
          "base_uri": "https://localhost:8080/"
        },
        "id": "BvkuSbVHf0N8",
        "outputId": "30ccf6b9-b7e1-465c-8fa6-2039787650e9"
      },
      "execution_count": 3,
      "outputs": [
        {
          "output_type": "stream",
          "name": "stdout",
          "text": [
            "1D Array: array('i', [1, 2, 3, 4, 5])\n",
            "First element: 1\n",
            "Last element: 5\n",
            "Modified Array: array('i', [1, 2, 10, 4, 5])\n"
          ]
        }
      ]
    },
    {
      "cell_type": "code",
      "source": [
        "input_array = np.array([1,2,3] ,dtype=np.int64)\n",
        "\n",
        "print(input_array)\n",
        "print(input_array.shape)\n",
        "print(input_array.dtype)"
      ],
      "metadata": {
        "id": "U0c-nlzQb3pa",
        "colab": {
          "base_uri": "https://localhost:8080/"
        },
        "outputId": "bbc5b5e5-9605-4576-8a00-2a3ff6f08491"
      },
      "execution_count": 2,
      "outputs": [
        {
          "output_type": "stream",
          "name": "stdout",
          "text": [
            "[1 2 3]\n",
            "(3,)\n",
            "int64\n"
          ]
        }
      ]
    },
    {
      "cell_type": "code",
      "source": [
        "import numpy as np\n",
        "\n",
        "# Creating a 1D array using NumPy\n",
        "one_d_array = np.array([1, 2, 3, 4, 5])\n",
        "\n",
        "# Accessing elements\n",
        "print(\"1D NumPy Array:\", one_d_array)\n",
        "print(\"First element:\", one_d_array[0])\n",
        "print(\"Last element:\", one_d_array[-1])\n"
      ],
      "metadata": {
        "colab": {
          "base_uri": "https://localhost:8080/"
        },
        "id": "viezZUZJfBAG",
        "outputId": "1478f626-6a58-48da-c8ef-f5103d4d9b40"
      },
      "execution_count": 4,
      "outputs": [
        {
          "output_type": "stream",
          "name": "stdout",
          "text": [
            "1D NumPy Array: [1 2 3 4 5]\n",
            "First element: 1\n",
            "Last element: 5\n"
          ]
        }
      ]
    },
    {
      "cell_type": "code",
      "source": [
        "# Creating a 2D array (matrix) using NumPy\n",
        "two_d_array = np.array([[1, 2, 3], [4, 5, 6], [7, 8, 9]])\n",
        "\n",
        "# Accessing elements\n",
        "print(\"2D NumPy Array (Matrix):\\n\", two_d_array)\n",
        "print(\"Element at row 1, col 2:\", two_d_array[0, 1])  # Element at (0, 1)\n"
      ],
      "metadata": {
        "colab": {
          "base_uri": "https://localhost:8080/"
        },
        "id": "7p1mJzaggLuD",
        "outputId": "329f2449-913d-4682-b258-b417a88bef0a"
      },
      "execution_count": 5,
      "outputs": [
        {
          "output_type": "stream",
          "name": "stdout",
          "text": [
            "2D NumPy Array (Matrix):\n",
            " [[1 2 3]\n",
            " [4 5 6]\n",
            " [7 8 9]]\n",
            "Element at row 1, col 2: 2\n"
          ]
        }
      ]
    },
    {
      "cell_type": "code",
      "source": [
        "import array\n",
        "\n",
        "# Step 1: Create an array of integers\n",
        "my_array = array.array('i', [1, 2, 3, 4, 5])\n",
        "print(\"Original Array:\", my_array)\n",
        "\n",
        "# Step 2: Insert a new element at index 2 (third position)\n",
        "my_array.insert(2, 10)  # Insert '10' at index 2\n",
        "\n",
        "# Step 3: Display the updated array\n",
        "print(\"Array after Insertion:\", my_array)\n"
      ],
      "metadata": {
        "colab": {
          "base_uri": "https://localhost:8080/"
        },
        "id": "MeVTjGyOgQ_Y",
        "outputId": "982b8fad-243f-4a81-b43e-934ac24c531a"
      },
      "execution_count": 6,
      "outputs": [
        {
          "output_type": "stream",
          "name": "stdout",
          "text": [
            "Original Array: array('i', [1, 2, 3, 4, 5])\n",
            "Array after Insertion: array('i', [1, 2, 10, 3, 4, 5])\n"
          ]
        }
      ]
    },
    {
      "cell_type": "markdown",
      "source": [
        "**Time Complexity of Insertion**\n",
        "Time complexity refers to how the time taken by an operation increases as the size of the array grows. Let's break it down in simple terms.\n",
        "\n",
        "**Best Case (O(1)):** If we insert an element at the end of the array, it takes constant time because no shifting of elements is required. The array just adds the new element at the last position.\n",
        "\n",
        "**Worst Case (O(n)):** If we insert an element at the beginning or middle of the array, the array needs to shift all the elements to the right to make room for the new element.\n",
        "\n",
        "**For example,** in the case above, inserting 10 at index 2 means the elements 3, 4, 5 have to move one position to the right. If the array has n elements, this shifting operation takes O(n) time."
      ],
      "metadata": {
        "id": "rkhEUFmLioRY"
      }
    },
    {
      "cell_type": "code",
      "source": [
        "for i in range(len(my_array)):\n",
        "    print(my_array[i])"
      ],
      "metadata": {
        "colab": {
          "base_uri": "https://localhost:8080/"
        },
        "id": "PlCIXyRxiynW",
        "outputId": "2db978ed-7c21-4201-833f-80d242475e6c"
      },
      "execution_count": 7,
      "outputs": [
        {
          "output_type": "stream",
          "name": "stdout",
          "text": [
            "1\n",
            "2\n",
            "10\n",
            "3\n",
            "4\n",
            "5\n"
          ]
        }
      ]
    },
    {
      "cell_type": "code",
      "source": [
        "for i in my_array:\n",
        "    print(i)"
      ],
      "metadata": {
        "colab": {
          "base_uri": "https://localhost:8080/"
        },
        "id": "TIIharJ-jRbe",
        "outputId": "621a1048-fd5b-42e0-c5db-ef40ccd4ab9d"
      },
      "execution_count": 8,
      "outputs": [
        {
          "output_type": "stream",
          "name": "stdout",
          "text": [
            "1\n",
            "2\n",
            "10\n",
            "3\n",
            "4\n",
            "5\n"
          ]
        }
      ]
    },
    {
      "cell_type": "code",
      "source": [
        "my_array * 10\n"
      ],
      "metadata": {
        "colab": {
          "base_uri": "https://localhost:8080/"
        },
        "id": "eKo0WqlhjYzq",
        "outputId": "7408e367-5be2-4b13-fa17-0ecf9ec7e109"
      },
      "execution_count": 9,
      "outputs": [
        {
          "output_type": "execute_result",
          "data": {
            "text/plain": [
              "array('i', [1, 2, 10, 3, 4, 5, 1, 2, 10, 3, 4, 5, 1, 2, 10, 3, 4, 5, 1, 2, 10, 3, 4, 5, 1, 2, 10, 3, 4, 5, 1, 2, 10, 3, 4, 5, 1, 2, 10, 3, 4, 5, 1, 2, 10, 3, 4, 5, 1, 2, 10, 3, 4, 5, 1, 2, 10, 3, 4, 5])"
            ]
          },
          "metadata": {},
          "execution_count": 9
        }
      ]
    },
    {
      "cell_type": "code",
      "source": [
        "import array\n",
        "\n",
        "# 1. Array of Signed Integers (Positive and Negative Integers)\n",
        "signed_int_array = array.array('i', [1, -2, 3, -4, 5])\n",
        "print(\"Signed Integer Array:\", signed_int_array)\n",
        "\n",
        "# 2. Array of Unsigned Integers (Positive Integers Only)\n",
        "unsigned_int_array = array.array('I', [1, 2, 3, 4, 5])\n",
        "print(\"Unsigned Integer Array:\", unsigned_int_array)\n",
        "\n",
        "# Uncommenting the next line will raise an OverflowError since -1 is not allowed in unsigned arrays\n",
        "# unsigned_int_array.append(-1)  # OverflowError\n",
        "\n",
        "# 3. Array of Floats (Positive and Negative Floating-Point Numbers)\n",
        "float_array = array.array('f', [1.1, -2.2, 3.3, -4.4, 5.5])\n",
        "print(\"Float Array:\", float_array)\n"
      ],
      "metadata": {
        "colab": {
          "base_uri": "https://localhost:8080/"
        },
        "id": "rFNxC0HAoDWU",
        "outputId": "f8111af3-ffb5-49e1-f3b0-7d83c7ded888"
      },
      "execution_count": 10,
      "outputs": [
        {
          "output_type": "stream",
          "name": "stdout",
          "text": [
            "Signed Integer Array: array('i', [1, -2, 3, -4, 5])\n",
            "Unsigned Integer Array: array('I', [1, 2, 3, 4, 5])\n",
            "Float Array: array('f', [1.100000023841858, -2.200000047683716, 3.299999952316284, -4.400000095367432, 5.5])\n"
          ]
        }
      ]
    },
    {
      "cell_type": "markdown",
      "source": [
        "**📘 Further Notes: Time and Space Complexity**\n",
        "**Time Complexity:**\n",
        "\n",
        "Accessing elements in an array: O(1) (constant time).\n",
        "\n",
        "Inserting an element at the end: O(1) (constant time).\n",
        "\n",
        "Inserting an element at the beginning or middle: O(n) (linear time), because all elements must shift.\n",
        "\n",
        "**Space Complexity:**\n",
        "\n",
        "Arrays use a fixed amount of memory for each element, which is efficient when handling large numerical datasets.\n",
        "\n",
        "Space complexity of insertion is O(1) because no extra space is needed beyond the new element being inserted."
      ],
      "metadata": {
        "id": "-dQk2-2poqzm"
      }
    },
    {
      "cell_type": "code",
      "source": [
        "class Solution(object):\n",
        "    def removeDuplicates(self, nums):\n",
        "        \"\"\"\n",
        "        :type nums: List[int]\n",
        "        :rtype: int\n",
        "        \"\"\"\n",
        "        unique_list = list(set(nums))\n",
        "\n",
        "        print(unique_list)\n",
        "       # out_list = []\n",
        "\n",
        "        original_len = len(nums)\n",
        "        sorted_array_len = len(unique_list)\n",
        "        diff = original_len - sorted_array_len\n",
        "        out_list = ['_'] * diff\n",
        "        print(out_list)\n",
        "\n",
        "        unique_list.extend(out_list)\n",
        "        print(unique_list)\n",
        "\n",
        "\n",
        "\n",
        "        print(f\"{len(unique_list)}, nums = {unique_list}\")"
      ],
      "metadata": {
        "id": "R5h-nQ_moroS"
      },
      "execution_count": 12,
      "outputs": []
    },
    {
      "cell_type": "code",
      "source": [
        "# Example usage\n",
        "if __name__ == \"__main__\":\n",
        "    nums = [0,0,1,1,1,2,2,3,3,4]\n",
        "\n",
        "    solution = Solution()\n",
        "    result = solution.removeDuplicates(nums)\n",
        ""
      ],
      "metadata": {
        "colab": {
          "base_uri": "https://localhost:8080/"
        },
        "id": "dOvGyD38hn2f",
        "outputId": "505cdb32-5396-43b4-a607-a60570c518be"
      },
      "execution_count": 13,
      "outputs": [
        {
          "output_type": "stream",
          "name": "stdout",
          "text": [
            "[0, 1, 2, 3, 4]\n",
            "['_', '_', '_', '_', '_']\n",
            "[0, 1, 2, 3, 4, '_', '_', '_', '_', '_']\n",
            "10, nums = [0, 1, 2, 3, 4, '_', '_', '_', '_', '_']\n"
          ]
        }
      ]
    },
    {
      "cell_type": "code",
      "source": [
        "class Solution(object):\n",
        "    def removeDuplicates(self, nums):\n",
        "        \"\"\"\n",
        "        :type nums: List[int]\n",
        "        :rtype: int\n",
        "        \"\"\"\n",
        "        unique_list = list(set(nums))\n",
        "        unique_list = [ int(x) for x in unique_list]\n",
        "        original_len = len(nums)\n",
        "        sorted_array_len = len(unique_list)\n",
        "        diff = original_len - sorted_array_len\n",
        "        out_list = ['_'] * diff\n",
        "\n",
        "\n",
        "\n",
        "        unique_list.extend(out_list)\n",
        "\n",
        "        k = len(unique_list)\n",
        "\n",
        "        #return unique_list\n",
        "\n",
        "        return print(f\"{k}, nums = {unique_list}\")\n",
        "\n",
        "# Example usage\n",
        "if __name__ == \"__main__\":\n",
        "    nums = [0,0,1,1,1,2,2,3,3,4]\n",
        "\n",
        "    solution = Solution()\n",
        "    result = solution.removeDuplicates(nums)\n"
      ],
      "metadata": {
        "colab": {
          "base_uri": "https://localhost:8080/"
        },
        "id": "1R0jJuoriCM3",
        "outputId": "a84d08f9-1161-4d62-ae0d-c88761d9dd1b"
      },
      "execution_count": 23,
      "outputs": [
        {
          "output_type": "stream",
          "name": "stdout",
          "text": [
            "10, nums = [0, 1, 2, 3, 4, '_', '_', '_', '_', '_']\n"
          ]
        }
      ]
    },
    {
      "cell_type": "code",
      "source": [
        "def count_greater_elements(A):\n",
        "    # Initialize the max_so_far with a very small number (or the first element)\n",
        "    max_so_far = float('-inf')  # This will track the maximum value we've seen so far\n",
        "    count = 0  # This will count the elements that are greater than all previous ones\n",
        "    max_list = []\n",
        "    # Traverse the array from left to right\n",
        "    for num in A:\n",
        "        # If the current element is greater than the max_so_far\n",
        "        if num > max_so_far:\n",
        "            max_so_far = num  # Update the max_so_far\n",
        "          #  count += 1  # Increment the count because we found a new max\n",
        "            max_list.append(num)\n",
        "\n",
        "\n",
        "    return len(max_list) , max_list\n",
        "\n",
        "# Example usage\n",
        "if __name__ == \"__main__\":\n",
        "\n",
        "  A = [3, 7, 8, 4, 5, 9, 2]\n",
        "  result = count_greater_elements(A)\n",
        "  print(result)  # Output should be 4, as the elements are [3, 7, 8, 9]\n"
      ],
      "metadata": {
        "colab": {
          "base_uri": "https://localhost:8080/"
        },
        "id": "lFLghbdDNiG8",
        "outputId": "82f34cfd-aa45-4220-d62e-47b91a6d5764"
      },
      "execution_count": 5,
      "outputs": [
        {
          "output_type": "stream",
          "name": "stdout",
          "text": [
            "(4, [3, 7, 8, 9])\n"
          ]
        }
      ]
    },
    {
      "cell_type": "code",
      "source": [
        "class MyPrinter:\n",
        "    def main_m(self):\n",
        "\n",
        "        user_input = input()\n",
        "\n",
        "\n",
        "\n",
        "        # YOUR CODE GOES HERE\n",
        "        # Please take input and print output to standard input/output (stdin/stdout)\n",
        "        # E.g. 'input()/raw_input()' for input & 'print' for output\n",
        "\n",
        "        print(\"Hello \" +user_input)\n",
        "\n",
        "if __name__ == '__main__':\n",
        "\n",
        "    my_printer = MyPrinter()\n",
        "    my_printer.main_m()\n",
        "    #main()"
      ],
      "metadata": {
        "colab": {
          "base_uri": "https://localhost:8080/"
        },
        "id": "5aWH9kF9d6Vh",
        "outputId": "3c5e08b7-2ac8-481a-cc86-ea83d00a428b"
      },
      "execution_count": 9,
      "outputs": [
        {
          "output_type": "stream",
          "name": "stdout",
          "text": [
            "debug_this_code\n",
            "Hello debug_this_code\n"
          ]
        }
      ]
    },
    {
      "cell_type": "code",
      "source": [
        "class MyCal:\n",
        "    def main(self):\n",
        "        A = int(input())\n",
        "        B = int(input())\n",
        "        # Print seven lines as described above\n",
        "        sum_A_B = A + B\n",
        "        sub_A_B = A - B\n",
        "        pro_A_B = A * B\n",
        "        i_div = A / B\n",
        "        f_div = A // B\n",
        "        r_div = A % B\n",
        "        p_A_B = A**B\n",
        "        print(sum_A_B, sub_A_B, pro_A_B, i_div, f_div, r_div, p_A_B)\n",
        "        return sum_A_B, sub_A_B, pro_A_B, i_div, f_div, r_div, p_A_B\n",
        "\n",
        "if __name__ == '__main__':\n",
        "\n",
        "\n",
        "  my_cal = MyCal()\n",
        "  my_cal.main()"
      ],
      "metadata": {
        "colab": {
          "base_uri": "https://localhost:8080/"
        },
        "id": "IqbGo9grgVMh",
        "outputId": "e4b29f27-5b56-4500-c188-7bf568a39ab6"
      },
      "execution_count": 14,
      "outputs": [
        {
          "output_type": "stream",
          "name": "stdout",
          "text": [
            "4\n",
            "2\n",
            "6 2 8 2.0 2 0 16\n"
          ]
        }
      ]
    },
    {
      "cell_type": "code",
      "source": [
        "def main():\n",
        "    num = int(input())\n",
        "    # YOUR CODE GOES HERE\n",
        "    if num >= 90 :\n",
        "        print(\"grade A.\")\n",
        "    elif num >= 80 :\n",
        "        print(\"grade B.\")\n",
        "\n",
        "    elif num >= 70 :\n",
        "        print(\"grade C.\")\n",
        "\n",
        "    elif num >= 60 :\n",
        "        print(\"grade D.\")\n",
        "\n",
        "    elif num >= 50 :\n",
        "        print(\"grade E.\")\n",
        "    else:\n",
        "        print(\"grade F.\")\n",
        "\n",
        "\n",
        "    return 0\n",
        "\n",
        "if __name__ == '__main__':\n",
        "    main()"
      ],
      "metadata": {
        "colab": {
          "base_uri": "https://localhost:8080/"
        },
        "id": "n-ddyFyohabt",
        "outputId": "19bc5f16-4a77-4c0c-ac63-e7bb99094675"
      },
      "execution_count": 15,
      "outputs": [
        {
          "output_type": "stream",
          "name": "stdout",
          "text": [
            "59\n",
            "grade E.\n"
          ]
        }
      ]
    },
    {
      "cell_type": "code",
      "source": [
        "def main():\n",
        "    N = int(input())\n",
        "    # YOUR CODE GOES HERE\n",
        "    for num in range(N) :\n",
        "        if num % 2 == 1 :\n",
        "\n",
        "            print(num)\n",
        "    return 0\n",
        "\n",
        "if __name__ == '__main__':\n",
        "    main()"
      ],
      "metadata": {
        "colab": {
          "base_uri": "https://localhost:8080/"
        },
        "id": "3ynMVkJCsWfP",
        "outputId": "37390aa7-b3b7-48f6-cca9-0688835b3303"
      },
      "execution_count": 18,
      "outputs": [
        {
          "output_type": "stream",
          "name": "stdout",
          "text": [
            "10\n",
            "1\n",
            "3\n",
            "5\n",
            "7\n",
            "9\n"
          ]
        }
      ]
    },
    {
      "cell_type": "code",
      "source": [
        "def main():\n",
        "    N = int(input())  # Taking an integer input N\n",
        "\n",
        "    # Loop through the numbers from 0 to N-1\n",
        "    for num in range(N):\n",
        "        # Check if the number is odd\n",
        "        if num % 2 == 1:\n",
        "            print(num)  # Print the odd number\n",
        "\n",
        "    return 0  # Return 0 (optional, not required in Python)\n",
        "\n",
        "if __name__ == '__main__':\n",
        "    main()\n"
      ],
      "metadata": {
        "id": "BvbxOQNas1-T"
      },
      "execution_count": null,
      "outputs": []
    },
    {
      "cell_type": "code",
      "source": [
        "def main():\n",
        "    N = int(input())  # Taking an integer input N\n",
        "\n",
        "    # Loop through the numbers from 0 to N (inclusive)\n",
        "    for num in range(N + 1):  # Loop goes up to N now, not N-1\n",
        "        # Check if the number is a multiple of both 3 and 5 (i.e., multiple of 15)\n",
        "        if num % 15 == 0:\n",
        "            print(num)  # Print the number if it's divisible by 15\n",
        "\n",
        "    return 0  # Return 0 (optional, not required in Python)\n",
        "\n",
        "if __name__ == '__main__':\n",
        "    main()\n"
      ],
      "metadata": {
        "colab": {
          "base_uri": "https://localhost:8080/"
        },
        "id": "Q5c8S2j1thbW",
        "outputId": "a6d4df22-830e-496c-dfc0-96842c3943cd"
      },
      "execution_count": 19,
      "outputs": [
        {
          "output_type": "stream",
          "name": "stdout",
          "text": [
            "15\n",
            "0\n",
            "15\n"
          ]
        }
      ]
    },
    {
      "cell_type": "code",
      "source": [
        "def main():\n",
        "    S = input()\n",
        "\n",
        "\n",
        "    #Print length of the string S\n",
        "    print(len(S))\n",
        "\n",
        "    #Print the first occurence of the letter 'a' in S\n",
        "\n",
        "    print(S.index(\"a\"))\n",
        "\n",
        "    #Note it is guaranteed that letter a is present in the string S\n",
        "\n",
        "    #Print all the characters with even index in S\n",
        "\n",
        "    for i in range(len(S)) :\n",
        "\n",
        "        if i % 2 == 0 :\n",
        "            print(S[i] , end = '')\n",
        "\n",
        "\n",
        "\n",
        "if __name__ == '__main__':\n",
        "    main()"
      ],
      "metadata": {
        "colab": {
          "base_uri": "https://localhost:8080/"
        },
        "id": "lH5-fBiT6Jrf",
        "outputId": "c2bcc8ea-ea79-4644-861c-9a2a5afd7cdc"
      },
      "execution_count": 22,
      "outputs": [
        {
          "output_type": "stream",
          "name": "stdout",
          "text": [
            "Bangalore\n",
            "9\n",
            "1\n",
            "Bnaoe"
          ]
        }
      ]
    },
    {
      "cell_type": "code",
      "source": [],
      "metadata": {
        "id": "8IU_L8-36oxu"
      },
      "execution_count": null,
      "outputs": []
    }
  ]
}
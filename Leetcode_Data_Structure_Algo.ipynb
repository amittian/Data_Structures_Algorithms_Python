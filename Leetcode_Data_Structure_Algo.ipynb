{
  "nbformat": 4,
  "nbformat_minor": 0,
  "metadata": {
    "colab": {
      "provenance": [],
      "authorship_tag": "ABX9TyNKAfMW4KoiXD1M7wvqQLvq",
      "include_colab_link": true
    },
    "kernelspec": {
      "name": "python3",
      "display_name": "Python 3"
    },
    "language_info": {
      "name": "python"
    }
  },
  "cells": [
    {
      "cell_type": "markdown",
      "metadata": {
        "id": "view-in-github",
        "colab_type": "text"
      },
      "source": [
        "<a href=\"https://colab.research.google.com/github/amittian/Data_Structures_Algorithms_Python/blob/main/Leetcode_Data_Structure_Algo.ipynb\" target=\"_parent\"><img src=\"https://colab.research.google.com/assets/colab-badge.svg\" alt=\"Open In Colab\"/></a>"
      ]
    },
    {
      "cell_type": "code",
      "execution_count": null,
      "metadata": {
        "id": "q-yhcWV_btK-"
      },
      "outputs": [],
      "source": [
        "import numpy as np\n",
        "import array"
      ]
    },
    {
      "cell_type": "code",
      "source": [
        "input_array = np.array([1,2,3] ,dtype=np.int64)\n",
        "\n",
        "print(input_array)\n",
        "print(input_array.shape)\n",
        "print(input_array.dtype)"
      ],
      "metadata": {
        "id": "U0c-nlzQb3pa",
        "colab": {
          "base_uri": "https://localhost:8080/"
        },
        "outputId": "bbc5b5e5-9605-4576-8a00-2a3ff6f08491"
      },
      "execution_count": 2,
      "outputs": [
        {
          "output_type": "stream",
          "name": "stdout",
          "text": [
            "[1 2 3]\n",
            "(3,)\n",
            "int64\n"
          ]
        }
      ]
    },
    {
      "cell_type": "code",
      "source": [],
      "metadata": {
        "id": "viezZUZJfBAG"
      },
      "execution_count": null,
      "outputs": []
    }
  ]
}